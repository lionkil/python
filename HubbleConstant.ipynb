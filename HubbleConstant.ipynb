{
 "cells": [
  {
   "cell_type": "markdown",
   "metadata": {
    "toc": true
   },
   "source": [
    "<h1>Table of Contents<span class=\"tocSkip\"></span></h1>\n",
    "<div class=\"toc\"><ul class=\"toc-item\"><li><span><a href=\"#Implications-of-the-COVID-19-Outbreak\" data-toc-modified-id=\"Implications-of-the-COVID-19-Outbreak-1\"><span class=\"toc-item-num\">1&nbsp;&nbsp;</span>Implications of the COVID-19 Outbreak</a></span></li><li><span><a href=\"#Executive-Summary\" data-toc-modified-id=\"Executive-Summary-2\"><span class=\"toc-item-num\">2&nbsp;&nbsp;</span>Executive Summary</a></span></li><li><span><a href=\"#Required-Analysis\" data-toc-modified-id=\"Required-Analysis-3\"><span class=\"toc-item-num\">3&nbsp;&nbsp;</span>Required Analysis</a></span><ul class=\"toc-item\"><li><span><a href=\"#Step-1:-The-Cepheid-Period-Luminosity-Relationship\" data-toc-modified-id=\"Step-1:-The-Cepheid-Period-Luminosity-Relationship-3.1\"><span class=\"toc-item-num\">3.1&nbsp;&nbsp;</span>Step 1: The Cepheid Period-Luminosity Relationship</a></span><ul class=\"toc-item\"><li><span><a href=\"#Magnitudes\" data-toc-modified-id=\"Magnitudes-3.1.1\"><span class=\"toc-item-num\">3.1.1&nbsp;&nbsp;</span>Magnitudes</a></span></li><li><span><a href=\"#Parallax\" data-toc-modified-id=\"Parallax-3.1.2\"><span class=\"toc-item-num\">3.1.2&nbsp;&nbsp;</span>Parallax</a></span></li><li><span><a href=\"#Apparent-vs-absolute-magnitudes;-distance-modulus;-extinction\" data-toc-modified-id=\"Apparent-vs-absolute-magnitudes;-distance-modulus;-extinction-3.1.3\"><span class=\"toc-item-num\">3.1.3&nbsp;&nbsp;</span>Apparent vs absolute magnitudes; distance modulus; extinction</a></span></li><li><span><a href=\"#Period-luminosity-relation\" data-toc-modified-id=\"Period-luminosity-relation-3.1.4\"><span class=\"toc-item-num\">3.1.4&nbsp;&nbsp;</span>Period-luminosity relation</a></span></li><li><span><a href=\"#Putting-it-all-together\" data-toc-modified-id=\"Putting-it-all-together-3.1.5\"><span class=\"toc-item-num\">3.1.5&nbsp;&nbsp;</span>Putting it all together</a></span></li><li><span><a href=\"#Hints-and-tips\" data-toc-modified-id=\"Hints-and-tips-3.1.6\"><span class=\"toc-item-num\">3.1.6&nbsp;&nbsp;</span>Hints and tips</a></span></li><li><span><a href=\"#Step-1----Summary:-The-Cepheid-Period-Luminosity-Relation\" data-toc-modified-id=\"Step-1----Summary:-The-Cepheid-Period-Luminosity-Relation-3.1.7\"><span class=\"toc-item-num\">3.1.7&nbsp;&nbsp;</span>Step 1 -- Summary: The Cepheid Period-Luminosity Relation</a></span></li></ul></li><li><span><a href=\"#Step-2:-Distances-for-a-Set-of-Nearby-Galaxies\" data-toc-modified-id=\"Step-2:-Distances-for-a-Set-of-Nearby-Galaxies-3.2\"><span class=\"toc-item-num\">3.2&nbsp;&nbsp;</span>Step 2: Distances for a Set of Nearby Galaxies</a></span><ul class=\"toc-item\"><li><span><a href=\"#Hints-and-tips\" data-toc-modified-id=\"Hints-and-tips-3.2.1\"><span class=\"toc-item-num\">3.2.1&nbsp;&nbsp;</span>Hints and tips</a></span></li></ul></li><li><span><a href=\"#Step-2----Summary:-Distances-for-a-Set-of-Nearby-Galaxies\" data-toc-modified-id=\"Step-2----Summary:-Distances-for-a-Set-of-Nearby-Galaxies-3.3\"><span class=\"toc-item-num\">3.3&nbsp;&nbsp;</span>Step 2 -- Summary: Distances for a Set of Nearby Galaxies</a></span></li><li><span><a href=\"#Step-3:-Expansion-Rate-of-the-Universe\" data-toc-modified-id=\"Step-3:-Expansion-Rate-of-the-Universe-3.4\"><span class=\"toc-item-num\">3.4&nbsp;&nbsp;</span>Step 3: Expansion Rate of the Universe</a></span><ul class=\"toc-item\"><li><span><a href=\"#Hints-and-tips\" data-toc-modified-id=\"Hints-and-tips-3.4.1\"><span class=\"toc-item-num\">3.4.1&nbsp;&nbsp;</span>Hints and tips</a></span></li></ul></li><li><span><a href=\"#Step-3----Summary:-Expansion-Rate-of-the-Universe\" data-toc-modified-id=\"Step-3----Summary:-Expansion-Rate-of-the-Universe-3.5\"><span class=\"toc-item-num\">3.5&nbsp;&nbsp;</span>Step 3 -- Summary: Expansion Rate of the Universe</a></span></li><li><span><a href=\"#Step-4:-Age-of-the-Universe\" data-toc-modified-id=\"Step-4:-Age-of-the-Universe-3.6\"><span class=\"toc-item-num\">3.6&nbsp;&nbsp;</span>Step 4: Age of the Universe</a></span></li><li><span><a href=\"#Step-4----Summary:-Age-of-the-Universe\" data-toc-modified-id=\"Step-4----Summary:-Age-of-the-Universe-3.7\"><span class=\"toc-item-num\">3.7&nbsp;&nbsp;</span>Step 4 -- Summary: Age of the Universe</a></span></li></ul></li><li><span><a href=\"#Due-date\" data-toc-modified-id=\"Due-date-4\"><span class=\"toc-item-num\">4&nbsp;&nbsp;</span>Due date</a></span><ul class=\"toc-item\"><li><ul class=\"toc-item\"><li><span><a href=\"#-Deadline-for-submission:-6:00pm-on-Friday,-May-6,-2020\" data-toc-modified-id=\"-Deadline-for-submission:-6:00pm-on-Friday,-May-6,-2020-4.0.1\"><span class=\"toc-item-num\">4.0.1&nbsp;&nbsp;</span><span style=\"color: red\"> Deadline for submission: 6:00pm on Friday, May 6, 2020</span></a></span></li></ul></li></ul></li><li><span><a href=\"#Late-submission-penalties\" data-toc-modified-id=\"Late-submission-penalties-5\"><span class=\"toc-item-num\">5&nbsp;&nbsp;</span>Late submission penalties</a></span></li><li><span><a href=\"#Extensions\" data-toc-modified-id=\"Extensions-6\"><span class=\"toc-item-num\">6&nbsp;&nbsp;</span>Extensions</a></span></li><li><span><a href=\"#Submission-method\" data-toc-modified-id=\"Submission-method-7\"><span class=\"toc-item-num\">7&nbsp;&nbsp;</span>Submission method</a></span></li><li><span><a href=\"#Report-format-and-length\" data-toc-modified-id=\"Report-format-and-length-8\"><span class=\"toc-item-num\">8&nbsp;&nbsp;</span>Report format and length</a></span></li><li><span><a href=\"#Assessment-and-marking\" data-toc-modified-id=\"Assessment-and-marking-9\"><span class=\"toc-item-num\">9&nbsp;&nbsp;</span>Assessment and marking</a></span></li></ul></div>"
   ]
  },
  {
   "cell_type": "markdown",
   "metadata": {
    "slideshow": {
     "slide_type": "slide"
    }
   },
   "source": [
    "# Assignment 2:\n",
    "# The Expansion Rate and Age of the Universe"
   ]
  },
  {
   "cell_type": "markdown",
   "metadata": {
    "slideshow": {
     "slide_type": "slide"
    }
   },
   "source": [
    "## Implications of the COVID-19 Outbreak\n",
    "\n",
    "As you know, the University closed down 1 week earlier than planned for Easter break this year, and it has also already been announced that all teaching and assessment for the rest of the academic year will be done remotely.\n",
    "\n",
    "This is actually not a big problem for us. My plan is to deliver lectures remotely, via Panopto webinars, and for our practical sessions to also take place remotely, via collaboration in MS Teams. Note that the latter allows for group meetings, text chats, 1-on-1 video calls, screen sharing, file sharing, and even for allowing others to control your desktop (meaning that we can physically interact with your code on your screen to help you debug things, for example). \n",
    "\n",
    "So I think we will manage this. There are obviously still many details to sort out, but this should be quite doable over the Easter break.\n",
    "\n",
    "Given all this, my current plan is to keep to the originally planned schedule, both for lectures and practical sessins, and for the Assignment deadlines. This is subject to change, of course, if circumstances change."
   ]
  },
  {
   "cell_type": "markdown",
   "metadata": {
    "slideshow": {
     "slide_type": "fragment"
    }
   },
   "source": [
    "## Executive Summary\n",
    "\n",
    "Your goal in this assignment is to obtain estimates of the expansion rate and age of the Universe from actual astrophysical data.\n",
    "<br>\n",
    "\n",
    "\n",
    "All of your data analysis should be carried out in *Python*, using the methods you have learned in this course. \n",
    "<br>\n",
    "\n",
    "\n",
    "Your submission should consist of:\n",
    "\n",
    "* the code you have written to carry out the data analysis\n",
    "<br><br>\n",
    "* a brief write-up of your analysis that presents your results and explains what you did\n",
    "\n",
    "\n",
    "**Important: I am releasing this assignment very early because several of you have asked for it, and I do think it may be helpful to give you lots of time to familiarize yourself with it. However, please don't panic if you have no idea how to tackle this yet. We haven't got to the point in our data analysis lessons where we actually do this type of modelling -- all of this will make sense, I promise. For the moment, it would be good to get on top of the (astro-)physics and notation, which isn't hard, but may look confusing initially. I.e. just make sure you understand what we are asking you to do in each of the steps, and also overall.**"
   ]
  },
  {
   "cell_type": "markdown",
   "metadata": {
    "slideshow": {
     "slide_type": "slide"
    }
   },
   "source": [
    "## Required Analysis\n",
    "\n",
    "\n",
    "The steps required to obtain estimates of the expansion rate and age of the Universe are:\n",
    "\n",
    "1. determine the Cepheid period-luminosity (PL) relation\n",
    "    * Cepheid variables are pulsating stars whose pulsation period is related to their intrinsic brightness\n",
    "    * given a well-observed sample of nearby Cepheids, you can determine the form of this relationship\n",
    "<br><br>    \n",
    "2. estimate the distances for a small set of nearby galaxies\n",
    "    * given a sample of Cepheid variables in a galaxy, you can determine the distance towards that galaxy from your PL relation\n",
    "    * our data set for this assignment includes samples of Cepheids in 8 nearby galaxies, so you can estimate distances for all of these\n",
    "<br><br>    \n",
    "3. estimate the expansion rate of the Universe\n",
    "    * we know the recession velocities of the galaxies in our sample, so you can estimate the \"Hubble Constant\", i.e. the constant of proportionality between recession velocity and distance\n",
    "<br><br>    \n",
    "4. estimate the age of the Universe\n",
    "    * since the age of the Universe is approximately equal to the inverse of Hubble's constant, you can easily estimate one from the other"
   ]
  },
  {
   "cell_type": "markdown",
   "metadata": {
    "slideshow": {
     "slide_type": "skip"
    }
   },
   "source": [
    "### Step 1: The Cepheid Period-Luminosity Relationship\n",
    "\n",
    "The file \"MW_Cepheids.dat\" contains data for a sample of 10 Cepheid stars in the Milky Way. The table contains 7 columns:\n",
    "\n",
    "1. The name of the star\n",
    "2. its *parallax* in milli-arcsecond (see below)\n",
    "3. the error on the parallax\n",
    "4. its pulsation period in days\n",
    "5. its visual magnitude (see below)\n",
    "7. the extinction towards the star in magnitudes (see below) \n",
    "8. the error on the extinction in magnitudes\n",
    "\n",
    "#### Magnitudes\n",
    "\n",
    "The brightness of astronomical objects is usually measured in *magnitudes*. Magnitudes can be a counterintuive measure of brightness when first encountered, for two reasons: (1) they are *logarithmic*, and (2) they are defined so that *brighter objects have smaller magnitudes*. Specifically, the magnitude scale is designed in such a way that if object 1 is 100 times brighter than object 2, and if object 2 has a magnitude of $m_2$, then the magnitude of object 1 is exactly $m_1 = m_2 - 5$.\n",
    "\n",
    "All that said, luckily, the details of all this need not concern us here. This is because we will work in magnitude units throughout, so we never have to convert back and forth between magnitudes and other measures of brightness. \n",
    "\n",
    "[Just for reference: Strictly speaking, one needs to specify what wavelength range one is talking about when one refers to a magnitude. All of the data in this Assignment are for the visual (V) band.]\n",
    "\n",
    "#### Parallax\n",
    "\n",
    "The parallax of a star is its angular displacement relative to distant background stars over the course of a year (see e.g. \n",
    "<a href=\"https://en.wikipedia.org/wiki/Parallax\">here</a>). The closer the star is to Earth, the larger its parallax. \n",
    "\n",
    "More specifically, there is a simple relationship between the parallax of a star ($p_{mas}$, measured in milli-arcseconds) and its distance from Earth ($d_{pc}$, measured in *parsecs*):\n",
    "\n",
    "$$ d_{pc} = 1000/p_{mas}$$\n",
    "\n",
    "The conversion from parsecs to meters is $1 {\\rm \\,pc} = 3.086 \\times 10^{16} {\\rm \\,m}$. For reference, $1$ pc $\\simeq 3.3$ light years.\n",
    "\n",
    "\n",
    "#### Apparent vs absolute magnitudes; distance modulus; extinction\n",
    "\n",
    "Suppose we observe two identical objects that are located at two different distances from us. Then obviously the one further away from us will appear to be fainter. This is no different than saying that the 100 Watt light bulb in my office seems a lot brighter to me than the same light bulb in another office across campus, which I can barely make out through my window. It is therefore important to distinguish between the *intrinsic* brightness of an object -- something that measures the fact that the light bulb is 100 Watts -- and the *apparent* brightness of an object -- which, for a given intrinsic brightness, depends only on the distance towards the object.\n",
    "\n",
    "In astronomy, we use *absolute magnitudes* to talk about *intrinsic brightness*. And we use *apparent magnitude* to talk about *apparent brightness*. In order to distinguish between them, we denote an *absolute magnitude* by an *upper case* $M$, and *apparent magnitudes* by lower case $m$. The absolute magnitude of an object is formally defined as the apparent magnitude it would have if it were located at a distance of exactly 10 pc.\n",
    "\n",
    "Finally, the relationship between absolute and apparent magnitudes obviously has to involve the distance from the object. Specifically, the difference between apparent and absolute magnitudes is called \n",
    "the *distance modulus*, $\\mu$, i.e.\n",
    "\n",
    "$$\\mu = m - M$$\n",
    " \n",
    "And since magnitudes are logarithmic units, this difference (i.e. the distance modulus) scales with the logarithm of the distance. \n",
    "\n",
    "However, there is one other factor we need to account for. When we observe an object in the Milky Way or in a distant galaxy, there is often also a substantial amount of gas and dust between us and the object. This gas and dust can obscure our view of the object, i.e. it can make the object appear *dimmer* than it would if this stuff weren't in the way. We can quantify this by defining the *extinction*, $A$, as the dimming effect of the intervening \"stuff\", measured in units of magnitudes. \n",
    "\n",
    "Putting these things together, we get the following relationship between apparent magnitude, absolute magnitude, distance and extinction:\n",
    "\n",
    "$$\\mu = m - M = 5 \\log{d_{pc}} - 5 + A$$\n",
    "\n",
    "\n",
    "#### Period-luminosity relation\n",
    "\n",
    "The intrinsic brightness of a pulsating Cepheid variable star depends on the period of its pulsation. The physics of this is interesting, but needn't concern us here. The dependence of brightness on period is usually modelled via a simple linear relationship between the absolute magnitude and the logarithm of the pulsation period:\n",
    "\n",
    "$$M = \\alpha \\log{P} + \\beta$$\n",
    "\n",
    "\n",
    "This is the so-called \"period-luminosity relation\". \n",
    "\n",
    "#### Putting it all together\n",
    "\n",
    "The data in the file \"MW_Cepheids.dat\", together with the information provided above, is sufficient to estimate the parameters defining period luminosity relation (and their uncertainties). Specifically, your goal is to obtain optimal estimates (and errors) for $\\alpha$ and $\\beta$. You should also address the correlation or lack thereof between $\\alpha$s and $\\beta$s.\n",
    "\n",
    "In order to achieve this, you will first need to estimate the absolute magnitudes for all Cepheids in the sample (using their apparent magnitudes, the parallaxes and the extinction estimates). The data includes the pulsation periods, so you can then fit the absolute magnitudes, using the period-luminosity relations described above as your model. This will give you the $\\alpha$ and $\\beta$ values.\n",
    "\n",
    "#### Hints and tips\n",
    "\n",
    "Here are a few hints and tips you may want to think about as you do this (and address in your write-up). \n",
    "\n",
    "* where errors are provided, you may assume that they are Gaussian\n",
    "\n",
    "* where errors are *not* provided (e.g. on apparent magnitudes and periods), it usually means that the relevant quantities is very precisely known, so the error on it can be ignored\n",
    "\n",
    "* in order to estimate errors on the absolute magnitudes, you will need to propagate the errors on the distance and extinction somehow; make sure to think about this error propagation carefully\n",
    "\n",
    "* since the simple, linear period-luminosity relation is really just an approximation to fairly complex underlying physics, it is possible that there may be extra scatter  around the relationship (in excess of that expected from the observational errors); if this happens -- i.e. if one or both of your fits to the period-luminosity relation are not formally acceptable (in terms of its $\\chi^2$), you should still \"accept\" the relationship but explicitly allow for this extra \"intrinsic dispersion\".\n",
    "\n",
    "* If your best-fit $\\alpha$ and $\\beta$ values are correlated, you might want to consider using the strategy discussed in one of our final lessons."
   ]
  },
  {
   "cell_type": "markdown",
   "metadata": {
    "slideshow": {
     "slide_type": "slide"
    }
   },
   "source": [
    "\n",
    "\n",
    "#### Step 1 -- Summary: The Cepheid Period-Luminosity Relation\n",
    "\n",
    "$$M = \\alpha \\log{P} + \\beta$$"
   ]
  },
  {
   "cell_type": "markdown",
   "metadata": {
    "slideshow": {
     "slide_type": "skip"
    }
   },
   "source": [
    "### Step 2: Distances for a Set of Nearby Galaxies\n",
    "\n",
    "The files \"hst_gal1_cepheids.dat\" through \"hst_gal8_cepheids.dat\" contain data obtained by the Hubble Space Telescope on Cepheid variables discovered in 8 nearby galaxies. Each file contains the following information:\n",
    "\n",
    "* Header Row 1: Name of the galaxy\n",
    "\n",
    "* Column 1: Name of the Cepheid\n",
    "* Column 2: logarithm of the Cepheid period in days\n",
    "* Column 3: apparent magnitude of the Cepheid\n",
    "\n",
    "In addition, the file \"galaxy_data.dat\" provides information about each of these galaxies. Specifically:\n",
    "\n",
    "* Column 1: Name of the Galaxy\n",
    "* Column 2: the galaxy's recession velocity (in km/s)\n",
    "* Column 3: $A_{MW}$, an estimate of the extinction in the Milky Way towards the galaxy\n",
    "\n",
    "Now that $A_{MW}$ only accounts (approximately) for the dimming due to materials in *our* galaxy (the Milky Way). Each Cepheid may additionally suffer from some extinction in its own host galaxy, but we have not been given estimates of this here.\n",
    "\n",
    "Using the relationship between apparent and absolute magnitude, extinction and distance modulus, obtain an optimal estimate of the distance modulus (and its uncertainty) for each of the 8 galaxies. Also convert these estimates to distances in parsecs.\n",
    "\n",
    "#### Hints and tips\n",
    "\n",
    "* you should at least think about -- and discuss in your write-up -- how extinction in each Cepheid's host galaxy may affect your distance estimates\n",
    "\n",
    "* propagate all relevant uncertainties correctly into your final errors for the distance moduli and distances; make sure to think about whether any of the uncertainties you are propagating are correlated with each other. \n",
    "\n",
    "* you might want to think about and/or investigate whether the resulting errors on the distance moduli and the distances are Gaussian or not"
   ]
  },
  {
   "cell_type": "markdown",
   "metadata": {
    "slideshow": {
     "slide_type": "slide"
    }
   },
   "source": [
    "### Step 2 -- Summary: Distances for a Set of Nearby Galaxies\n",
    "\n",
    "\n",
    "$$ m - M = 5 \\log{d_{pc}} - 5 + A$$"
   ]
  },
  {
   "cell_type": "markdown",
   "metadata": {
    "slideshow": {
     "slide_type": "skip"
    }
   },
   "source": [
    "### Step 3: Expansion Rate of the Universe\n",
    "\n",
    "You now have distances (and associated errors) for your 8 galaxies. As described above, the table \"galaxy_data.dat\" also provides the recession velocity for each galaxy. The recession velocity is the speed with which the galaxy appears to move away from us.\n",
    "\n",
    "This recession velocity is actual due to the expansion of the universe. A simple way to picture this is to think of galaxies as raisins in a loaf of bread being baked in an oven. As the bread loaf expands, all raisins move apart from each other, and since there is more expanding dough between distant raisins thant nearby raisins, distance raisins move away from each other faster. \n",
    "\n",
    "Thus there is -- or should be -- a simple linear relationship (called *Hubble's Law*) between the distance of a galaxy from us, $D_{gal}$ and its apparent recession speed, $v_{rec}$:\n",
    "\n",
    "$$v_{rec} = H_0 D_{gal}.$$\n",
    "\n",
    "Note that there is no constant term in this relationship, and the slope of the relationship $H_0$ -- known as the *Hubble Constant* -- is usually measured in units of (km/s) per Mpc (1 $Mpc = 10^6$ pc).\n",
    "\n",
    "By combining the distances you have measured for our 8 galaxies with the recession velocities provided for them, you should be able to obtain an optimal estimate for $H_0$, along with an estimate of the error on this. \n",
    "\n",
    "#### Hints and tips\n",
    "\n",
    "* No errors were provided for us on the recession velocities. Since these galaxies are fairly nearby, their recession velocities are actually fairly hard to measure (since their overall velocities are also affected by \"local\" effects, i.e. effects other than just the expansion of the universe). We should therefore not be surprised if the recession velocities do suffer from significant errors.\n",
    "\n",
    "* Instead of using the relationship between $v_{rec}$ and $D_{gal}$ exactly as given above, you might consider taking the logarithm of both sides and using this in your analysis. Think about -- and and perhaps comment in your write-up -- as to why that might be a good idea."
   ]
  },
  {
   "cell_type": "markdown",
   "metadata": {
    "slideshow": {
     "slide_type": "slide"
    }
   },
   "source": [
    "### Step 3 -- Summary: Expansion Rate of the Universe\n",
    "\n",
    "\n",
    "$$v_{rec} = H_0 D_{gal}.$$\n"
   ]
  },
  {
   "cell_type": "markdown",
   "metadata": {
    "slideshow": {
     "slide_type": "skip"
    }
   },
   "source": [
    "### Step 4: Age of the Universe\n",
    "\n",
    "If you think about the form of Hubble's Law and the units of Hubble's Constant, you can see that it allows you to estimate the age of the universe. \n",
    "\n",
    "If the whole universe is expanding, and all of it started in a single \"point\", then the time it took an object moving with $v_{rec}$ to move to a distance $D_{gal}$ is given by \n",
    "\n",
    "$$\\tau = \\frac{D_{gal}}{v_{rec}} = \\frac{1}{H_0}.$$\n",
    "\n",
    "So $1/H_0$ is an estimate for the age of the expanding universe! \n",
    "\n",
    "Strictly speaking, this is only an approximation, since the detailed recession speed can be a function of time, with the exact functional form depending on the \"contents\" of the universe. However, it is a very good approximation, and certainly good enough for our purposes here.\n",
    "\n",
    "Using your estimate of $H_0$ from above, estimate the age of the universe (in Gigayears, i.e. in units of $10^{9}$ years), along with the uncertainty on your estimate."
   ]
  },
  {
   "cell_type": "markdown",
   "metadata": {
    "slideshow": {
     "slide_type": "slide"
    }
   },
   "source": [
    "### Step 4 -- Summary: Age of the Universe\n",
    "\n",
    "\n",
    "$$\\tau = \\frac{D_{gal}}{v_{rec}} = \\frac{1}{H_0}.$$\n"
   ]
  },
  {
   "cell_type": "markdown",
   "metadata": {
    "slideshow": {
     "slide_type": "slide"
    }
   },
   "source": [
    "## Due date\n",
    "\n",
    "#### <span style=\"color:red\"> Deadline for submission: 6:00pm on Friday, May 6, 2020</span>\n",
    "\n",
    "## Late submission penalties\n",
    "\n",
    "Late submissions will incur a penalty of 10% of the awarded mark times the number of working days, or part thereof, after the published submission deadline.\n",
    "\n",
    "## Extensions\n",
    "\n",
    "Requests for extensions on the basis of illness or other special circumstances should be made via the normal special considerations process. The special considerations team in the faculty office (pa-scb@soton.ac.uk), or your personal tutor, should be able to help you with this."
   ]
  },
  {
   "cell_type": "markdown",
   "metadata": {
    "slideshow": {
     "slide_type": "skip"
    }
   },
   "source": [
    "## Submission method\n",
    "\n",
    "Your report and the code on which it is based should both be submitted via the Blackboard site (under \"Assignments\"). \n",
    "\n",
    "The report should be a pdf file containing just text and figures.\n",
    "\n",
    "The code can be submitted as either \n",
    "\n",
    "* plain *Python 3* code (which must work without any trouble in *Spyder*)\n",
    "    * there should be enough comments and documentation to help us understand what's going on\n",
    "\n",
    "* a *Jupyter Notebook*\n",
    "    * with Notebooks, it's also allowed to do most of the commenting in text cells between code snippets\n",
    "\n",
    "If you encounter any problems during submission, email me (c.knigge@soton.ac.uk) before the deadline and include your submission as an attachment."
   ]
  },
  {
   "cell_type": "markdown",
   "metadata": {
    "slideshow": {
     "slide_type": "skip"
    }
   },
   "source": [
    "## Report format and length\n",
    "\n",
    "The written report on your analysis should provide a clear and concise explanation of what you have done and what your results are. You do **not** have to provide an introduction into the underlying (astro-)physics, nor any discussion or conclusions regarding the astrophysical implications of the results. (Do make sure to clearly define any symbols you are using, however.)\n",
    "\n",
    "A good way to think about your report is as the data/statistical analysis section of a larger paper in which the observations and results that have been obtained would be described in detail.\n",
    "\n",
    "The main thing we will be looking for in your report is evidence that you have fully understood the principles and methods you have used in order to obtain your results. Thus you should make sure to explain any assumptions or approximations you make, as well as any non-standard methods you apply. \n",
    "\n",
    "A simple and sensible structure for your report could be:\n",
    "\n",
    "* Outline of the overall analyis steps\n",
    "* Step 1: the Cepheid period-luminosity relation\n",
    "* Step 2: distances for nearby galaxies\n",
    "* Step 3: the Hubble constant\n",
    "* Step 4: the age of the universe\n",
    "\n",
    "There is no need to pad your report, but do make sure to clearly explain what you have done. A rough *upper limit* on the report length is 3000 words.\n",
    "\n",
    "**What do we mean by saying \"[T]hink about your report .. as the data/statistical analysis section of a larger paper\"?**\n",
    "\n",
    "**To answer this as concretely as possible, I am providing you with an excerpt from an actual published research paper, which describes a very similar type of analyses to the one we are doing in this assignment. The file containing this excerpt is called sample.pdf**"
   ]
  },
  {
   "cell_type": "markdown",
   "metadata": {
    "slideshow": {
     "slide_type": "skip"
    }
   },
   "source": [
    "## Assessment and marking\n",
    "\n",
    "All submitted programs and reports will be read/tested by teaching staff associated with the course.\n",
    "\n",
    "Marks will be awarded in the following three basic categories:\n",
    "\n",
    "1. The submitted code (Weight: 30%)\n",
    "    * are all of the necessary steps included in the code?\n",
    "    * are sensible algorithms used?\n",
    "    * are the algorithms implemented sensibly and correctly?\n",
    "    * are reasonable comments and docstrings provided?\n",
    "    * is the code easy to read and understand?\n",
    "<br><br>    \n",
    "2. The data analysis (Weight: 40%)\n",
    "    * has the data analysis been carried out correctly?\n",
    "    * have errors been estimated and propagated correctly?\n",
    "<br><br>\n",
    "3. The report (Weight: 30%)\n",
    "    * does the write-up clearly and concisely explain what has been done?\n",
    "    * does it explain and justify any approximations that were made?\n",
    "    * does it explain and justify any non-standard approaches that were used?\n",
    "    * does it demonstrate a good understanding of the statistical principles used?\n",
    "    * is the report well-written and structured?\n",
    "<br><br>\n",
    "\n",
    "The mark achieved for this assignment will count 60% towards the final module mark.\n",
    "\n",
    "I will provide you with the Marksheet we actually use to assess your work, so that you can see pretty precisely what we are looking at."
   ]
  }
 ],
 "metadata": {
  "celltoolbar": "Slideshow",
  "hide_input": false,
  "kernelspec": {
   "display_name": "Python 3",
   "language": "python",
   "name": "python3"
  },
  "language_info": {
   "codemirror_mode": {
    "name": "ipython",
    "version": 3
   },
   "file_extension": ".py",
   "mimetype": "text/x-python",
   "name": "python",
   "nbconvert_exporter": "python",
   "pygments_lexer": "ipython3",
   "version": "3.7.6"
  },
  "latex_envs": {
   "bibliofile": "biblio.bib",
   "cite_by": "apalike",
   "current_citInitial": 1,
   "eqLabelWithNumbers": true,
   "eqNumInitial": 0
  },
  "toc": {
   "base_numbering": 1,
   "nav_menu": {},
   "number_sections": true,
   "sideBar": true,
   "skip_h1_title": true,
   "title_cell": "Table of Contents",
   "title_sidebar": "Contents",
   "toc_cell": true,
   "toc_position": {},
   "toc_section_display": true,
   "toc_window_display": false
  }
 },
 "nbformat": 4,
 "nbformat_minor": 1
}
